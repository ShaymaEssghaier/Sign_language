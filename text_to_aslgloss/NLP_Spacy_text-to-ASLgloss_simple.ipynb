{
 "cells": [
  {
   "cell_type": "code",
   "execution_count": 285,
   "metadata": {},
   "outputs": [],
   "source": [
    "##pip install spacy\n",
    "##python -m spacy download en_core_web_sm"
   ]
  },
  {
   "cell_type": "markdown",
   "metadata": {},
   "source": [
    "### Search: rules for glossing in ASL \n",
    "ChatGPT: what are the rules for glossing in ASL"
   ]
  },
  {
   "cell_type": "code",
   "execution_count": 2,
   "metadata": {},
   "outputs": [],
   "source": [
    "import spacy\n",
    "\n",
    "import re\n",
    "\n",
    "from nltk import pos_tag\n",
    "from nltk.corpus import wordnet, stopwords\n",
    "stop_words = stopwords.words(\"english\")\n",
    "from nltk.tokenize import word_tokenize\n",
    "from nltk.stem import PorterStemmer, WordNetLemmatizer\n",
    "stemmer = PorterStemmer()\n",
    "lemmatizer = WordNetLemmatizer()"
   ]
  },
  {
   "cell_type": "code",
   "execution_count": 3,
   "metadata": {},
   "outputs": [],
   "source": [
    "def cleanre(x):\n",
    "    y=x\n",
    "    y=re.sub(r'@\\w+', '', y)\n",
    "    y=re.sub(r'https(.*)', '', y)\n",
    "    y=re.sub(r'#(.*)', '', y)\n",
    "    return y"
   ]
  },
  {
   "cell_type": "code",
   "execution_count": 4,
   "metadata": {},
   "outputs": [
    {
     "name": "stdout",
     "output_type": "stream",
     "text": [
      "stop_words: ['i', 'me', 'my', 'myself', 'we', 'our', 'ours', 'ourselves', 'you', \"you're\", \"you've\", \"you'll\", \"you'd\", 'your', 'yours', 'yourself', 'yourselves', 'he', 'him', 'his', 'himself', 'she', \"she's\", 'her', 'hers', 'herself', 'it', \"it's\", 'its', 'itself', 'they', 'them', 'their', 'theirs', 'themselves', 'what', 'which', 'who', 'whom', 'this', 'that', \"that'll\", 'these', 'those', 'am', 'is', 'are', 'was', 'were', 'be', 'been', 'being', 'have', 'has', 'had', 'having', 'do', 'does', 'did', 'doing', 'a', 'an', 'the', 'and', 'but', 'if', 'or', 'because', 'as', 'until', 'while', 'of', 'at', 'by', 'for', 'with', 'about', 'against', 'between', 'into', 'through', 'during', 'before', 'after', 'above', 'below', 'to', 'from', 'up', 'down', 'in', 'out', 'on', 'off', 'over', 'under', 'again', 'further', 'then', 'once', 'here', 'there', 'when', 'where', 'why', 'how', 'all', 'any', 'both', 'each', 'few', 'more', 'most', 'other', 'some', 'such', 'no', 'nor', 'not', 'only', 'own', 'same', 'so', 'than', 'too', 'very', 's', 't', 'can', 'will', 'just', 'don', \"don't\", 'should', \"should've\", 'now', 'd', 'll', 'm', 'o', 're', 've', 'y', 'ain', 'aren', \"aren't\", 'couldn', \"couldn't\", 'didn', \"didn't\", 'doesn', \"doesn't\", 'hadn', \"hadn't\", 'hasn', \"hasn't\", 'haven', \"haven't\", 'isn', \"isn't\", 'ma', 'mightn', \"mightn't\", 'mustn', \"mustn't\", 'needn', \"needn't\", 'shan', \"shan't\", 'shouldn', \"shouldn't\", 'wasn', \"wasn't\", 'weren', \"weren't\", 'won', \"won't\", 'wouldn', \"wouldn't\"]\n"
     ]
    }
   ],
   "source": [
    "print(f'stop_words: {stop_words}')\n",
    "\n",
    "## custom stop_words as we want to keep pronouns\n",
    "stop_words = ['a', 'to', 'the', 'as', 'about']\n",
    "\n",
    "def process(document):\n",
    "    document = cleanre(document)\n",
    "    tokens = word_tokenize(document)\n",
    "    ##tokens = [t.lower() for t in tokens if t.isalpha()]\n",
    "    tokens = [t for t in tokens if t not in stop_words]\n",
    "    ###tokens = [stemmer.stem(t) for t in tokens]\n",
    "    ##tokens = [lemmatizer.lemmatize(t) for t in tokens]\n",
    "    ###tokens = [t for t in tokens if t not in cleaners]\n",
    "\n",
    "    return \" \".join(tokens)"
   ]
  },
  {
   "cell_type": "code",
   "execution_count": 5,
   "metadata": {},
   "outputs": [
    {
     "name": "stdout",
     "output_type": "stream",
     "text": [
      "['MONDAY', 'TUESDAY', 'WEDNESDAY', 'THURSDAY', 'FRIDAY', 'SATURDAY', 'SUNDAY']\n",
      "['YESTERDAY', 'TODAY', 'TOMORROW', 'SOON', 'MONDAY', 'TUESDAY', 'WEDNESDAY', 'THURSDAY', 'FRIDAY', 'SATURDAY', 'SUNDAY']\n"
     ]
    }
   ],
   "source": [
    "convert_poss_pronouns = {'HER': 'SHE', 'HIS': 'HE', 'THEIR': 'THEY', 'THEIRS': 'THEY', 'YOURS': 'YOU', 'OURS': 'WE'}\n",
    "\n",
    "opened_questions = ['WHO', 'WHAT', 'WHY', 'WHERE', 'WHOSE']\n",
    "\n",
    "time_adverbs = ['YESTERDAY', 'TODAY', 'TOMORROW', 'SOON']\n",
    "days = [day.upper() for day in ['Monday', 'Tuesday', 'Wednesday', 'Thursday', 'Friday', 'Saturday','Sunday']]\n",
    "print(days)\n",
    "time_adverbs = time_adverbs + days\n",
    "print(time_adverbs)"
   ]
  },
  {
   "cell_type": "code",
   "execution_count": 6,
   "metadata": {},
   "outputs": [],
   "source": [
    "# Load spaCy model\n",
    "nlp = spacy.load(\"en_core_web_sm\")\n",
    "\n",
    "def translate_to_asl_gloss(text):\n",
    "    # Preprocess the english text\n",
    "    text = process(text) ## voir dans spacy nlp !!\n",
    "    ###print(f'text: {text}')\n",
    "\n",
    "    # Process the text with spaCy\n",
    "    doc = nlp(text)\n",
    "\n",
    "    # Initialize an empty list for the ASL gloss tokens\n",
    "    asl_gloss_tokens = []\n",
    "\n",
    "    # Define simple rules for transformation based on POS-tags\n",
    "    for token in doc:\n",
    "        #if token.pos_ == 'PRON' and token.dep_ == 'nsubj':\n",
    "        #    # Move the subject pronoun to the end\n",
    "        #    continue\n",
    "        if token.pos_ == 'AUX':\n",
    "            # Skip auxiliary verbs (like 'is', 'am', 'are')\n",
    "            continue\n",
    "        elif token.dep_ == 'punct':\n",
    "            # Skip punctuation\n",
    "            continue\n",
    "        else:\n",
    "            ## Use token.lemma_ not token.text\n",
    "            ##formatted_token = token.text.upper()\n",
    "            formatted_token = token.lemma_.upper()\n",
    "            # Hours formatting to gloss\n",
    "            if 'P.M' in formatted_token or 'A.M' in formatted_token:\n",
    "                formatted_token = 'DESC-' + formatted_token\n",
    "            # Pronoun not subject: X-\n",
    "            elif token.pos_ == 'PRON':\n",
    "                if formatted_token in convert_poss_pronouns.keys():\n",
    "                    formatted_token = convert_poss_pronouns[formatted_token]\n",
    "                formatted_token = 'X-' + formatted_token\n",
    "            elif token.pos_ == 'RB':\n",
    "                formatted_token = 'DESC-' + formatted_token\n",
    "            ## opened questions: append 'Wh'\n",
    "            if asl_gloss_tokens == []:\n",
    "                if formatted_token in opened_questions:\n",
    "                    formatted_token = 'wh ' + formatted_token\n",
    "                elif '?' in text:\n",
    "                    formatted_token = 'q ' + formatted_token\n",
    "\n",
    "            asl_gloss_tokens.append(formatted_token)\n",
    "\n",
    "    # Move the time adverb at start of list\n",
    "    if asl_gloss_tokens[-1] in time_adverbs:\n",
    "        asl_gloss_tokens.insert(0,asl_gloss_tokens.pop(asl_gloss_tokens.index(asl_gloss_tokens[-1])))\n",
    "\n",
    "    # Join the tokens to form the ASL gloss\n",
    "    asl_gloss = ' '.join(asl_gloss_tokens)\n",
    "    return asl_gloss"
   ]
  },
  {
   "cell_type": "markdown",
   "metadata": {},
   "source": [
    "## Dataset"
   ]
  },
  {
   "cell_type": "code",
   "execution_count": 7,
   "metadata": {},
   "outputs": [],
   "source": [
    "# Example sentences\n",
    "sentences = [\n",
    "    \"the high costs of patents in europe , you say , might possibly explain this\",\n",
    "    \"i should like to congratulate you once again , commissioner , on a fascinating publication\",\n",
    "    \"i will also create the post of commissioner for internal affairs and migration , including security\",\n",
    "    \"the sitting was suspended at 3.25 p.m. and resumed at 6.00 p.m.\",\n",
    "    \"Where is the bathroom?\",\n",
    "    \"pl mr president , I would like to thank the rapporteur for her work\",\n",
    "    \"Do you like coffee ?\",\n",
    "    \"I will go to the store tomorrow.\"\n",
    "]\n",
    "\n",
    "expected_glosses = [\n",
    "    \"DESC-HIGH COST PATENT IN EUROPE , X-YOU SAY , MIGHT DESC-POSSIBLY EXPLAIN THIS\",\n",
    "    \"X-I SHOULD LIKE TO CONGRATULATE X-YOU DESC-ONCE DESC-AGAIN , COMMISSIONER , ON DESC-FASCINATING PUBLICATION\",\n",
    "    \"X-I WILL DESC-ALSO CREATE POST COMMISSIONER FOR DESC-INTERNAL AFFAIR AND MIGRATION , INCLUDE SECURITY\",\n",
    "    \"SIT BE SUSPEND AT 3.25 DESC-P.M. AND RESUME AT 6.00 DESC-P.M.\",\n",
    "    \"wh WHERE BATHROOM\",\n",
    "    \"PL MR PRESIDENT , X-I WOULD LIKE TO THANK RAPPORTEUR FOR X-SHE WORK\",\n",
    "    \"q YOU LIKE COFFEE\",\n",
    "    \"TOMORROW STORE I GO\"\n",
    "]"
   ]
  },
  {
   "cell_type": "code",
   "execution_count": 8,
   "metadata": {},
   "outputs": [
    {
     "name": "stdout",
     "output_type": "stream",
     "text": [
      "Original      : the high costs of patents in europe , you say , might possibly explain this\n",
      "expected gloss: DESC-HIGH COST PATENT IN EUROPE , X-YOU SAY , MIGHT DESC-POSSIBLY EXPLAIN THIS\n",
      "ASL Gloss     : HIGH COST OF PATENT IN EUROPE X-YOU SAY POSSIBLY EXPLAIN X-THIS\n",
      "\n",
      "Original      : i should like to congratulate you once again , commissioner , on a fascinating publication\n",
      "expected gloss: X-I SHOULD LIKE TO CONGRATULATE X-YOU DESC-ONCE DESC-AGAIN , COMMISSIONER , ON DESC-FASCINATING PUBLICATION\n",
      "ASL Gloss     : X-I LIKE CONGRATULATE X-YOU ONCE AGAIN COMMISSIONER ON FASCINATING PUBLICATION\n",
      "\n",
      "Original      : i will also create the post of commissioner for internal affairs and migration , including security\n",
      "expected gloss: X-I WILL DESC-ALSO CREATE POST COMMISSIONER FOR DESC-INTERNAL AFFAIR AND MIGRATION , INCLUDE SECURITY\n",
      "ASL Gloss     : X-I ALSO CREATE POST OF COMMISSIONER FOR INTERNAL AFFAIR AND MIGRATION INCLUDE SECURITY\n",
      "\n",
      "Original      : the sitting was suspended at 3.25 p.m. and resumed at 6.00 p.m.\n",
      "expected gloss: SIT BE SUSPEND AT 3.25 DESC-P.M. AND RESUME AT 6.00 DESC-P.M.\n",
      "ASL Gloss     : SIT SUSPEND AT 3.25 DESC-P.M. AND RESUME AT 6.00 DESC-P.M\n",
      "\n",
      "Original      : Where is the bathroom?\n",
      "expected gloss: wh WHERE BATHROOM\n",
      "ASL Gloss     : wh WHERE BATHROOM\n",
      "\n",
      "Original      : pl mr president , I would like to thank the rapporteur for her work\n",
      "expected gloss: PL MR PRESIDENT , X-I WOULD LIKE TO THANK RAPPORTEUR FOR X-SHE WORK\n",
      "ASL Gloss     : PL MR PRESIDENT X-I LIKE THANK RAPPORTEUR FOR X-SHE WORK\n",
      "\n",
      "Original      : Do you like coffee ?\n",
      "expected gloss: q YOU LIKE COFFEE\n",
      "ASL Gloss     : q X-YOU LIKE COFFEE\n",
      "\n",
      "Original      : I will go to the store tomorrow.\n",
      "expected gloss: TOMORROW STORE I GO\n",
      "ASL Gloss     : TOMORROW X-I GO STORE\n",
      "\n"
     ]
    }
   ],
   "source": [
    "## text-to-ASL gloss translation\n",
    "# Translate each sentence to ASL gloss\n",
    "for idx, sentence in enumerate(sentences):\n",
    "    print(f\"Original      : {sentence}\")\n",
    "    print(f\"expected gloss: {expected_glosses[idx]}\")\n",
    "    print(f\"ASL Gloss     : {translate_to_asl_gloss(sentence)}\\n\")\n"
   ]
  },
  {
   "cell_type": "markdown",
   "metadata": {},
   "source": [
    "## nom propre\n",
    "## règles standard"
   ]
  }
 ],
 "metadata": {
  "kernelspec": {
   "display_name": ".venv4",
   "language": "python",
   "name": ".venv4"
  },
  "language_info": {
   "codemirror_mode": {
    "name": "ipython",
    "version": 3
   },
   "file_extension": ".py",
   "mimetype": "text/x-python",
   "name": "python",
   "nbconvert_exporter": "python",
   "pygments_lexer": "ipython3",
   "version": "3.10.12"
  }
 },
 "nbformat": 4,
 "nbformat_minor": 2
}
