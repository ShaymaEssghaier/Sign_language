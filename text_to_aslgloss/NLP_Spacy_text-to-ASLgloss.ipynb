{
 "cells": [
  {
   "cell_type": "code",
   "execution_count": 1,
   "metadata": {},
   "outputs": [],
   "source": [
    "##pip install spacy\n",
    "##python -m spacy download en_core_web_sm"
   ]
  },
  {
   "cell_type": "markdown",
   "metadata": {},
   "source": [
    "### Search: rules for glossing in ASL \n",
    "ChatGPT: what are the rules for glossing in ASL"
   ]
  },
  {
   "cell_type": "markdown",
   "metadata": {},
   "source": [
    "### To gloss American Sign Language (ASL) using Python and SpaCy, you would need to set up a system to process the input text according to the rules of ASL glossing. Below are the basic rules for ASL glossing followed by a Python code example using SpaCy.\n",
    "*** ASL Glossing Rules: ***\n",
    "1. Uppercase Letters: Write each ASL sign in uppercase letters.\\ DONE\n",
    "2. Non-Manual Signals (NMS): Indicate non-manual signals such as facial expressions or body movements above the glossed sign.\\\n",
    "3. Fingerspelling: Represent fingerspelled words with dashes between each letter.\\\n",
    "4. Lexicalized Fingerspelling: Indicate lexicalized fingerspelling with a # symbol.\\\n",
    "5. Repetition: Show repeated signs with a plus sign (+) after the gloss.\\\n",
    "6. Role Shift: Indicate role shift with \"rs\" before the gloss.\\\n",
    "7. Indexing/Pointing: Use \"ix\" followed by a subscript letter or number for indexing.\\\n",
    "8. Directional Signs: Indicate the direction of the sign with arrows or other indicators.\\\n",
    "9. Classifiers: Use abbreviations for classifiers.\\\n",
    "10. Time Indicators: Place time indicators at the beginning of the sentence.\\ DONE\n",
    "11. Topic-Comment Structure: Indicate the topic followed by the comment.\\\n",
    "12. English Words/Concepts: Use English gloss in quotation marks for concepts without direct ASL equivalents.\n"
   ]
  },
  {
   "cell_type": "code",
   "execution_count": 3,
   "metadata": {},
   "outputs": [],
   "source": [
    "import spacy\n",
    "from spacy.scorer import Scorer\n",
    "import pandas as pd\n",
    "\n",
    "from sklearn.metrics import precision_score, recall_score, f1_score\n",
    "from spacy.training.example import Example\n"
   ]
  },
  {
   "cell_type": "markdown",
   "metadata": {},
   "source": [
    "### Read CSV Dataset"
   ]
  },
  {
   "cell_type": "code",
   "execution_count": 5,
   "metadata": {},
   "outputs": [
    {
     "data": {
      "text/plain": [
       "\"\\nfile_path = 'Input/ASLG_PC12_train.csv/train.csv'\\ndf = pd.read_csv(file_path)\\n\\nprint(f'df.shape: {df.shape}')\\n\\ndf.columns\\n\""
      ]
     },
     "execution_count": 5,
     "metadata": {},
     "output_type": "execute_result"
    }
   ],
   "source": [
    "\"\"\"\n",
    "file_path = 'Input/ASLG_PC12_train.csv/train.csv'\n",
    "df = pd.read_csv(file_path)\n",
    "\n",
    "print(f'df.shape: {df.shape}')\n",
    "\n",
    "df.columns\n",
    "\"\"\""
   ]
  },
  {
   "cell_type": "markdown",
   "metadata": {},
   "source": [
    "### Load Spacy instance"
   ]
  },
  {
   "cell_type": "code",
   "execution_count": 7,
   "metadata": {},
   "outputs": [],
   "source": [
    "# Load SpaCy model\n",
    "## attention de faire: python -m spacy download en_core_web_sm si nécessaire\n",
    "nlp = spacy.load(\"en_core_web_sm\")"
   ]
  },
  {
   "cell_type": "markdown",
   "metadata": {},
   "source": [
    "### Example sentences and their corresponding reference glosses"
   ]
  },
  {
   "cell_type": "code",
   "execution_count": 8,
   "metadata": {},
   "outputs": [],
   "source": [
    "# Example sentences and their corresponding reference glosses\n",
    "## list of tuples\n",
    "examples = [\n",
    "    (\"Yesterday, I saw a car and a person.\", \"YESTERDAY I IX_1 SAW CL:3 AND CL:1.\"),\n",
    "    (\"I went to the store.\", \"I IX_1 WENT STORE.\"),\n",
    "]"
   ]
  },
  {
   "cell_type": "markdown",
   "metadata": {},
   "source": [
    "### ASL Gloss standard functions"
   ]
  },
  {
   "cell_type": "code",
   "execution_count": 10,
   "metadata": {},
   "outputs": [],
   "source": [
    "# ASL glossing rules implemented in functions\n",
    "def gloss_word(word):\n",
    "    return word.upper()\n",
    "\n",
    "def handle_fingerspelling(word):\n",
    "    return '-'.join(list(word.upper()))\n",
    "\n",
    "def handle_lexicalized_fingerspelling(word):\n",
    "    return f\"#{word.upper()}\"\n",
    "\n",
    "def handle_repetition(word, count):\n",
    "    return f\"{word.upper()}{'+' * (count - 1)}\" if count > 1 else word.upper()\n",
    "\n",
    "def handle_role_shift(sentence):\n",
    "    return f\"rs {sentence}\"\n",
    "\n",
    "def handle_indexing(token, index):\n",
    "    return f\"ix_{index} {token.upper()}\"\n",
    "\n",
    "def gloss_sentence(doc):\n",
    "    glossed_sentence = []\n",
    "    for token in doc:\n",
    "        glossed_word = gloss_word(token.text)\n",
    "        glossed_sentence.append(glossed_word)\n",
    "    return \" \".join(glossed_sentence)\n",
    "\n",
    "def add_time_indicator(doc):\n",
    "    time_words = [\"yesterday\", \"today\", \"tomorrow\"]\n",
    "    glossed_sentence = gloss_sentence(doc)\n",
    "    for word in doc:\n",
    "        if word.text.lower() in time_words:\n",
    "            return f\"{word.text.upper()} {glossed_sentence.replace(word.text.upper(), '').strip()}\"\n",
    "    return glossed_sentence\n",
    "\n",
    "def process_sentence(doc):\n",
    "    nms = {\n",
    "        \"wh-question\": \"wh-q\",\n",
    "        \"yes-no-question\": \"y/n-q\"\n",
    "    }\n",
    "    \n",
    "    classifiers = {\n",
    "        \"car\": \"CL:3\",\n",
    "        \"person\": \"CL:1\"\n",
    "    }\n",
    "    \n",
    "    glossed_sentence = []\n",
    "    for token in doc:\n",
    "        word = token.text.lower()\n",
    "        \n",
    "        if word in [\"i\", \"me\"]:\n",
    "            glossed_word = handle_indexing(\"I\", 1)\n",
    "        elif word in [\"you\"]:\n",
    "            glossed_word = handle_indexing(\"YOU\", 2)\n",
    "        elif word in [\"yesterday\", \"today\", \"tomorrow\"]:\n",
    "            glossed_word = add_time_indicator(doc)\n",
    "        elif word in classifiers:\n",
    "            glossed_word = classifiers[word]\n",
    "        else:\n",
    "            glossed_word = gloss_word(word)\n",
    "        \n",
    "        glossed_sentence.append(glossed_word)\n",
    "    \n",
    "    return \" \".join(glossed_sentence)\n"
   ]
  },
  {
   "cell_type": "markdown",
   "metadata": {},
   "source": [
    "### Evaluation\n",
    "\n",
    "NB: deterministic model = set of ASL-Gloss-rules functions"
   ]
  },
  {
   "cell_type": "code",
   "execution_count": 11,
   "metadata": {},
   "outputs": [],
   "source": [
    "# Evaluation function\n",
    "def evaluate_glossing(examples):\n",
    "    y_true = []\n",
    "    y_pred = []\n",
    "    \n",
    "    for sentence, reference_gloss in examples:\n",
    "        doc = nlp(sentence)\n",
    "        generated_gloss = process_sentence(doc) ## deterministic model = set of ASL-Gloss-rules functions\n",
    "        \n",
    "        # Tokenize glosses for comparison\n",
    "        reference_tokens = reference_gloss.split()\n",
    "        generated_tokens = generated_gloss.split()\n",
    "        \n",
    "        y_true.extend([reference_tokens])\n",
    "        y_pred.extend([generated_tokens])\n",
    "        \n",
    "    return y_true, y_pred\n"
   ]
  },
  {
   "cell_type": "markdown",
   "metadata": {},
   "source": [
    "### Flatten the lists for sklearn"
   ]
  },
  {
   "cell_type": "code",
   "execution_count": null,
   "metadata": {},
   "outputs": [],
   "source": []
  },
  {
   "cell_type": "markdown",
   "metadata": {},
   "source": [
    "### Compute Metrics"
   ]
  },
  {
   "cell_type": "code",
   "execution_count": 12,
   "metadata": {},
   "outputs": [],
   "source": [
    "# Calculate metrics\n",
    "def compute_metrics(y_true_, y_pred_):\n",
    "    precision = precision_score(y_true_, y_pred_, average='weighted', zero_division=1)\n",
    "    recall = recall_score(y_true_, y_pred_, average='weighted', zero_division=1)\n",
    "    f1 = f1_score(y_true_, y_pred_, average='weighted', zero_division=1)\n",
    "\n",
    "    print(f\"Precision: {precision:.2f}\")\n",
    "    print(f\"Recall: {recall:.2f}\")\n",
    "    print(f\"F1 Score: {f1:.2f}\")\n",
    "\n",
    "    return {\"precision\": precision, \"recall\": recall, \"f1_score\": f1}\n"
   ]
  },
  {
   "cell_type": "markdown",
   "metadata": {},
   "source": [
    "### example"
   ]
  },
  {
   "cell_type": "code",
   "execution_count": 13,
   "metadata": {},
   "outputs": [
    {
     "data": {
      "text/plain": [
       "'\\ny_true, y_pred = evaluate_glossing(examples)\\n\\nprint(type(y_true))\\n\\nprint(f\\'y_pred sentence: {y_pred}\\')\\n\\nfor idx, sentence in enumerate(examples):\\n    print(f\\'sentence: {sentence[0]}\\')\\n    print(f\\'y_true sentence: {\" \".join(y_true[idx])}\\')\\n    print(f\\'y_pred sentence: {\" \".join(y_pred[idx])}\\')\\n\\nprecision, recall, f1_score = compute_metrics(y_pred, y_pred)\\n'"
      ]
     },
     "execution_count": 13,
     "metadata": {},
     "output_type": "execute_result"
    }
   ],
   "source": [
    "# Example usage\n",
    "\"\"\"\n",
    "y_true, y_pred = evaluate_glossing(examples)\n",
    "\n",
    "print(type(y_true))\n",
    "\n",
    "print(f'y_pred sentence: {y_pred}')\n",
    "\n",
    "for idx, sentence in enumerate(examples):\n",
    "    print(f'sentence: {sentence[0]}')\n",
    "    print(f'y_true sentence: {\" \".join(y_true[idx])}')\n",
    "    print(f'y_pred sentence: {\" \".join(y_pred[idx])}')\n",
    "\n",
    "precision, recall, f1_score = compute_metrics(y_pred, y_pred)\n",
    "\"\"\""
   ]
  }
 ],
 "metadata": {
  "kernelspec": {
   "display_name": ".venv4",
   "language": "python",
   "name": ".venv4"
  },
  "language_info": {
   "codemirror_mode": {
    "name": "ipython",
    "version": 3
   },
   "file_extension": ".py",
   "mimetype": "text/x-python",
   "name": "python",
   "nbconvert_exporter": "python",
   "pygments_lexer": "ipython3",
   "version": "3.10.12"
  }
 },
 "nbformat": 4,
 "nbformat_minor": 2
}
