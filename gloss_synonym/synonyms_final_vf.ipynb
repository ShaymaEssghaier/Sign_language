{
 "cells": [
  {
   "cell_type": "code",
   "execution_count": 18,
   "metadata": {},
   "outputs": [],
   "source": [
    "import pandas as pd\n",
    "import spacy\n",
    "import numpy as np\n",
    "from sklearn.cluster import DBSCAN\n",
    "from sklearn.metrics.pairwise import cosine_distances\n",
    "import matplotlib.pyplot as plt\n",
    "import nltk\n",
    "from nltk.corpus import wordnet"
   ]
  },
  {
   "cell_type": "code",
   "execution_count": 19,
   "metadata": {},
   "outputs": [],
   "source": [
    "def load_data(file_path):\n",
    "    \"\"\"\n",
    "    This function loads the data from a given file_path\n",
    "    \n",
    "    parameter: str the file path\n",
    "    \n",
    "    Returns: the unique words in gloss column\n",
    "    \"\"\"\n",
    "    data = pd.read_csv(file_path, delimiter=\";\")\n",
    "    return data[\"gloss\"].unique()"
   ]
  },
  {
   "cell_type": "code",
   "execution_count": 20,
   "metadata": {},
   "outputs": [],
   "source": [
    "def initialize_spacy_model(model_name=\"en_core_web_md\"):\n",
    "    return spacy.load(model_name)"
   ]
  },
  {
   "cell_type": "code",
   "execution_count": 21,
   "metadata": {},
   "outputs": [],
   "source": [
    "def download_wordnet():\n",
    "    \"\"\"\n",
    "    This function downloads a dictionary that will be used to find antonyms\n",
    "    \"\"\"\n",
    "    nltk.download('wordnet')"
   ]
  },
  {
   "cell_type": "code",
   "execution_count": 22,
   "metadata": {},
   "outputs": [],
   "source": [
    "def generate_word_vectors(words, model):\n",
    "    return np.array([model(word).vector for word in words])"
   ]
  },
  {
   "cell_type": "code",
   "execution_count": 23,
   "metadata": {},
   "outputs": [],
   "source": [
    "def plot_k_distance_graph(distances, k):\n",
    "    k_distances = np.sort(distances, axis=1)[:, k]\n",
    "    k_distances = np.sort(k_distances)\n",
    "    plt.figure(figsize=(10, 5))\n",
    "    plt.plot(k_distances)\n",
    "    plt.xlabel('Points sorted by distance')\n",
    "    plt.ylabel(f'{k}-th Nearest Neighbor Distance')\n",
    "    plt.title(f'k-distance Graph for k={k}')\n",
    "    plt.grid(True)\n",
    "    plt.show()"
   ]
  },
  {
   "cell_type": "code",
   "execution_count": 24,
   "metadata": {},
   "outputs": [],
   "source": [
    "def perform_dbscan_clustering(word_vectors, eps, min_samples=5):\n",
    "    dbscan = DBSCAN(metric='cosine', eps=eps, min_samples=min_samples)\n",
    "    dbscan.fit(word_vectors)\n",
    "    return dbscan"
   ]
  },
  {
   "cell_type": "code",
   "execution_count": 25,
   "metadata": {},
   "outputs": [],
   "source": [
    "def create_cluster_mapping(words, dbscan_labels):\n",
    "    cluster_to_words = {}\n",
    "    for word, cluster in zip(words, dbscan_labels):\n",
    "        if cluster not in cluster_to_words:\n",
    "            cluster_to_words[cluster] = []\n",
    "        cluster_to_words[cluster].append(word)\n",
    "    return cluster_to_words"
   ]
  },
  {
   "cell_type": "code",
   "execution_count": 26,
   "metadata": {},
   "outputs": [],
   "source": [
    "def find_antonyms(word):\n",
    "    antonyms = set()\n",
    "    for syn in wordnet.synsets(word):\n",
    "        for lemma in syn.lemmas():\n",
    "            if lemma.antonyms():\n",
    "                antonyms.add(lemma.antonyms()[0].name())\n",
    "    return antonyms"
   ]
  },
  {
   "cell_type": "code",
   "execution_count": 27,
   "metadata": {},
   "outputs": [],
   "source": [
    "def find_synonyms_in_cluster(word, model, cluster_to_words, dbscan_model):\n",
    "    \"\"\"\n",
    "    This function finds the most similar word in the same cluster, and excludes antonyms\n",
    "    \"\"\"\n",
    "    word_vector = model(word).vector\n",
    "    cluster_label = dbscan_model.fit_predict([word_vector])[0]\n",
    "    cluster_words = cluster_to_words.get(cluster_label, [])\n",
    "    \n",
    "    if not cluster_words:\n",
    "        return None\n",
    "    \n",
    "    antonyms = find_antonyms(word)\n",
    "    similarities = [(dict_word, model(dict_word).similarity(model(word))) for dict_word in cluster_words if dict_word != word and dict_word not in antonyms]\n",
    "    \n",
    "    if not similarities:\n",
    "        return None\n",
    "    \n",
    "    most_similar_word = sorted(similarities, key=lambda item: -item[1])[0][0]\n",
    "    return most_similar_word"
   ]
  },
  {
   "cell_type": "code",
   "execution_count": 28,
   "metadata": {},
   "outputs": [],
   "source": [
    "def display_clusters(cluster_to_words):\n",
    "    for cluster_label, words in cluster_to_words.items():\n",
    "        if cluster_label != -1:  # Exclude noise points\n",
    "            print(f\"Cluster {cluster_label}: {words}\")\n",
    "        else:\n",
    "            print(f\"Noise: {words}\")"
   ]
  },
  {
   "cell_type": "code",
   "execution_count": 29,
   "metadata": {},
   "outputs": [
    {
     "name": "stderr",
     "output_type": "stream",
     "text": [
      "[nltk_data] Downloading package wordnet to /Users/shayma/nltk_data...\n",
      "[nltk_data]   Package wordnet is already up-to-date!\n"
     ]
    }
   ],
   "source": [
    "def main(file_path, model_name=\"en_core_web_md\", eps=0.23, min_samples=5, k=5):\n",
    "    global nlp, cluster_to_words, dbscan\n",
    "    \n",
    "    dict_2000 = load_data(file_path)\n",
    "    nlp = initialize_spacy_model(model_name)\n",
    "    download_wordnet()\n",
    "    \n",
    "    word_vectors = generate_word_vectors(dict_2000, nlp)\n",
    "    \n",
    "    # distances = cosine_distances(word_vectors)\n",
    "    # plot_k_distance_graph(distances, k)\n",
    "    \n",
    "    dbscan = perform_dbscan_clustering(word_vectors, eps, min_samples)\n",
    "    cluster_to_words = create_cluster_mapping(dict_2000, dbscan.labels_)\n",
    "\n",
    "if __name__ == \"__main__\":\n",
    "    main(\"filtered_WLASL.csv\")"
   ]
  },
  {
   "cell_type": "code",
   "execution_count": 30,
   "metadata": {},
   "outputs": [
    {
     "name": "stderr",
     "output_type": "stream",
     "text": [
      "/var/folders/xz/72k4rwks3fd_0_rwkt_d4m4r0000gn/T/ipykernel_9548/513080953.py:13: UserWarning: [W008] Evaluating Doc.similarity based on empty vectors.\n",
      "  similarities = [(dict_word, model(dict_word).similarity(model(word))) for dict_word in cluster_words if dict_word != word and dict_word not in antonyms]\n"
     ]
    },
    {
     "name": "stdout",
     "output_type": "stream",
     "text": [
      "The most similar word to 'unhappy' is 'embarrass'\n"
     ]
    }
   ],
   "source": [
    "##TEST##\n",
    "target_word = \"unhappy\"\n",
    "synonym = find_synonyms_in_cluster(target_word, nlp, cluster_to_words, dbscan)\n",
    "print(f\"The most similar word to '{target_word}' is '{synonym}'\")"
   ]
  },
  {
   "cell_type": "code",
   "execution_count": 17,
   "metadata": {},
   "outputs": [
    {
     "name": "stdout",
     "output_type": "stream",
     "text": [
      "Number of clusters: 0\n",
      "Words in the same cluster as 'unhappy': ['book', 'drink', 'computer', 'before', 'chair', 'go', 'clothes', 'who', 'candy', 'deaf', 'fine', 'help', 'no', 'thin', 'walk', 'year', 'yes', 'all', 'black', 'cool', 'finish', 'hot', 'like', 'many', 'now', 'table', 'thanksgiving', 'what', 'woman', 'bed', 'bowling', 'can', 'dog', 'family', 'fish', 'graduate', 'hat', 'hearing', 'kiss', 'language', 'later', 'man', 'shirt', 'study', 'tall', 'white', 'wrong', 'accident', 'apple', 'bird', 'change', 'color', 'corn', 'cow', 'dance', 'dark', 'doctor', 'eat', 'enjoy', 'forget', 'give', 'last', 'meet', 'pizza', 'play', 'school', 'secretary', 'short', 'time', 'want', 'work', 'africa', 'birthday', 'but', 'cheat', 'city', 'cook', 'decide', 'full', 'how', 'jacket', 'letter', 'medicine', 'need', 'paint', 'paper', 'pull', 'right', 'same', 'tell', 'visit', 'wait', 'water', 'backpack', 'bar', 'cat', 'check', 'class', 'cry', 'different', 'door', 'hair', 'have', 'headache', 'inform', 'knife', 'laugh', 'learn', 'movie', 'rabbit', 'read', 'room', 'run', 'show', 'sick', 'snow', 'take', 'tea', 'teacher', 'week', 'why', 'with', 'write', 'yesterday', 'again', 'bad', 'ball', 'bathroom', 'blanket', 'buy', 'call', 'coffee', 'cold', 'college', 'copy', 'cute', 'example', 'far', 'first', 'good', 'happy', 'home', 'late', 'leave', 'list', 'lose', 'name', 'old', 'person', 'police', 'problem', 'remember', 'share', 'soon', 'stay', 'test', 'tired', 'trade', 'travel', 'window', 'you', 'about', 'approve', 'arrive', 'balance', 'beard', 'because', 'boy', 'business', 'careful', 'center', 'chat', 'children', 'christmas', 'clock', 'close', 'convince', 'country', 'crash', 'day', 'discuss', 'dress', 'drive', 'drop', 'fat', 'feel', 'future', 'game', 'girl', 'government', 'hear', 'here', 'hope', 'house', 'interest', 'join', 'light', 'live', 'make', 'mean', 'more', 'most', 'music', 'new', 'none', 'office', 'order', 'pants', 'party', 'past', 'pencil', 'plan', 'please', 'practice', 'president', 'restaurant', 'ride', 'russia', 'salt', 'sandwich', 'sign', 'since', 'small', 'some', 'student', 'teach', 'theory', 'tomato', 'train', 'ugly', 'war', 'where', 'your', 'always', 'animal', 'argue', 'baby', 'back', 'bake', 'bath', 'behind', 'bring', 'catch', 'cereal', 'champion', 'cheese', 'cough', 'crazy', 'delay', 'delicious', 'disappear', 'divorce', 'draw', 'easy', 'egg', 'environment', 'fault', 'flower', 'friendly', 'glasses', 'halloween', 'hard', 'heart', 'hour', 'humble', 'hurry', 'improve', 'internet', 'jump', 'kill', 'law', 'match', 'meat', 'milk', 'money', 'month', 'moon', 'move', 'near', 'nice', 'noon', 'not', 'nurse', 'off', 'ok', 'patient', 'pay', 'perspective', 'potato', 'sad', 'save', 'scissors', 'secret', 'shoes', 'shop', 'silly', 'sleep', 'sorry', 'straight', 'sweet', 'talk', 'temperature', 'tent', 'thank you', 'throw', 'today', 'traffic', 'use', 'voice', 'vomit', 'vote', 'wet', 'when', 'which', 'win', 'word', 'afternoon', 'age', 'alone', 'appointment', 'australia', 'avoid', 'balloon', 'basement', 'bear', 'better', 'blind', 'bored', 'bowl', 'box', 'bracelet', 'bread', 'cafeteria', 'car', 'chicken', 'child', 'choose', 'church', 'cookie', 'cup', 'cut', 'decorate', 'deep', 'deer', 'dentist', 'dirty', 'dive', 'down', 'dry', 'ear', 'earn', 'earring', 'elephant', 'english', 'escape', 'expensive', 'fast', 'fight', 'find', 'fishing', 'floor', 'fly', 'follow', 'from', 'get', 'happen', 'hello', 'hit', 'hospital', 'idea', 'important', 'investigate', 'japan', 'jealous', 'king', 'kitchen', 'large', 'last year', 'lettuce', 'marry', 'meeting', 'minute', 'mirror', 'miss', 'monkey', 'morning', 'motorcycle', 'necklace', 'never', 'newspaper', 'night', 'onion', 'people', 'pepper', 'phone', 'picture', 'plus', 'point', 'poor', 'possible', 'quiet', 'rain', 'ready', 'research', 'scared', 'science', 'score', 'sentence', 'shape', 'sit', 'slow', 'snake', 'soap', 'soda', 'speech', 'star', 'stink', 'struggle', 'stubborn', 'sunset', 'surgery', 'there', 'tiger', 'toast', 'toilet', 'tomorrow', 'town', 'transfer', 'tree', 'truck', 'vacation', 'weather', 'weekend', 'accept', 'adult', 'after', 'ago', 'allow', 'america', 'angel', 'answer', 'any', 'area', 'art', 'asl', 'awful', 'awkward', 'bacon', 'bark', 'bedroom', 'beer', 'belt', 'big', 'bitter', 'both', 'cake', 'california', 'canada', 'carrot', 'cause', 'challenge', 'cheap', 'chocolate', 'clean', 'cloud', 'compare', 'complex', 'contact', 'continue', 'corner', 'correct', 'curse', 'dead', 'demand', 'depend', 'desert', 'desk', 'develop', 'dictionary', 'doll', 'duty', 'egypt', 'elevator', 'email', 'end', 'enter', 'europe', 'event', 'exchange', 'experience', 'face', 'fail', 'feed', 'few', 'flag', 'food', 'for', 'form', 'freeze', 'front', 'giraffe', 'god', 'grammar', 'great', 'greece', 'guitar', 'hammer', 'helicopter', 'high', 'history', 'hungry', 'hurt', 'introduce', 'invest', 'lazy', 'library', 'lie', 'lobster', 'love', 'lucky', 'magazine', 'measure', 'microwave', 'my', 'neighbor', 'number', 'one', 'outside', 'peach', 'pig', 'polite', 'postpone', 'power', 'present', 'price', 'prison', 'push', 'raccoon', 'reason', 'religion', 'respect', 'rule', 'salad', 'schedule', 'sell', 'serious', 'shower', 'single', 'smart', 'smile', 'soft', 'sound', 'soup', 'spain', 'spray', 'squirrel', 'stomach', 'story', 'strange', 'street', 'stress', 'strict', 'strong', 'sugar', 'summer', 'suspect', 'sweetheart', 'tease', 'that', 'themselves', 'therapy', 'thirsty', 'ticket', 'top', 'turkey', 'university', 'until', 'watch', 'weak', 'wedding', 'will', 'wind', 'world', 'worry', 'wow', 'young', 'add', 'airplane', 'already', 'also', 'analyze', 'and', 'angry', 'appear', 'arm', 'army', 'arrest', 'asia', 'ask', 'attitude', 'attract', 'bald', 'barely', 'beg', 'benefit', 'bite', 'blame', 'boat', 'body', 'borrow', 'boss', 'bother', 'bottle', 'bottom', 'brag', 'build', 'bus', 'butter', 'calm', 'cancel', 'candle', 'cards', 'choice', 'comb', 'comfortable', 'conflict', 'cover', 'deodorant', 'dessert', 'destroy', 'diamond', 'dollar', 'drawer', 'dream', 'drunk', 'duck', 'during', 'eagle', 'early', 'equal', 'every', 'excited', 'exercise', 'experiment', 'expert', 'fact', 'fear', 'feedback', 'fold', 'forest', 'france', 'frog', 'funny', 'garage', 'goal', 'golf', 'gone', 'gossip', 'grapes', 'group', 'guilty', 'hamburger', 'hate', 'head', 'her', 'horse', 'ignore', 'impossible', 'in', 'independent', 'inside', 'insurance', 'island', 'lecture', 'lesson', 'limit', 'lion', 'listen', 'march', 'math', 'maybe', 'mechanic', 'mom', 'mouse', 'much', 'muscle', 'museum', 'must', 'mustache', 'negative', 'nervous', 'neutral', 'nose', 'often', 'operate', 'opinion', 'other', 'pass', 'pillow', 'prepare', 'pretty', 'priest', 'program', 'promise', 'put', 'queen', 'quit', 'radio', 'rat', 'reject', 'require', 'rest', 'retire', 'rise', 'river', 'rough', 'see', 'seem', 'send', 'sew', 'sheep', 'shine', 'shock', 'should', 'silent', 'skinny', 'skirt', 'sky', 'sour', 'special', 'spirit', 'staff', 'stand', 'steal', 'stop', 'stupid', 'summon', 'sunrise', 'swallow', 'television', 'to', 'together', 'translate', 'triangle', 'turtle', 'underwear', 'upset', 'violin', 'volunteer', 'warm', 'warn', 'wash', 'wine', 'witness', 'wood', 'zero', 'across', 'actor', 'agree', 'alarm', 'allergy', 'almost', 'announce', 'apartment', 'attention', 'audience', 'autumn', 'away', 'beautiful', 'become', 'below', 'best', 'bet', 'bicycle', 'biology', 'break', 'bridge', 'brush', 'building', 'busy', 'camera', 'camp', 'caption', 'care', 'carry', 'celebrate', 'certificate', 'chain', 'chance', 'character', 'chase', 'classroom', 'clear', 'climb', 'command', 'community', 'complain', 'compromise', 'contribute', 'cop', 'cost', 'couch', 'cracker', 'curious', 'curriculum', 'dad', 'deny', 'describe', 'diaper', 'diarrhea', 'disagree', 'dissolve', 'divide', 'dolphin', 'double', 'doubt', 'dumb', 'earth', 'earthquake', 'embarrass', 'emotion', 'encourage', 'energy', 'enough', 'evidence', 'exact', 'exaggerate', 'expect', 'fancy', 'favorite', 'finally', 'fox', 'french', 'function', 'gather', 'germany', 'gloves', 'goat', 'goodbye', 'grow', 'gum', 'half', 'hawaii', 'herself', 'highway', 'homework', 'honor', 'ice cream', 'if', 'increase', 'india', 'information', 'interpret', 'interview', 'invite', 'israel', 'jesus', 'keep', 'keyboard', 'land', 'lawyer', 'lead', 'lesbian', 'line', 'lock', 'loud', 'lousy', 'lunch', 'machine', 'mad', 'memorize', 'minus', 'mountain', 'mouth', 'mushroom', 'napkin', 'neck', 'next', 'ocean', 'open', 'overwhelm', 'owe', 'page', 'pain', 'parade', 'parents', 'perfect', 'period', 'philosophy', 'photographer', 'place', 'policy', 'popular', 'pray', 'predict', 'presentation', 'print', 'printer', 'private', 'procrastinate', 'project', 'protect', 'prove', 'provide', 'psychology', 'punish', 'puzzled', 'question', 'quick', 'rainbow', 'rake', 'rehearse', 'remove', 'revenge', 'review', 'rich', 'roof', 'rooster', 'rude', 'say', 'scientist', 'scotland', 'screwdriver', 'second', 'senate', 'separate', 'service', 'shrimp', 'shy', 'side', 'situation', 'slave', 'socks', 'solid', 'sometimes', 'spider', 'spin', 'square', 'stairs', 'stare', 'start', 'store', 'straw', 'structure', 'suggest', 'sun', 'support', 'sure', 'surprise', 'sweater', 'swim', 'symbol', 'taste', 'team', 'telephone', 'tennis', 'their', 'then', 'thermometer', 'third', 'thousand', 'tie', 'topic', 'touch', 'tournament', 'try', 'type', 'umbrella', 'vegetable', 'vocabulary', 'waste', 'we', 'wear', 'weekly', 'welcome', 'winter', 'without', 'wolf', 'worm', 'wristwatch', 'yourself', 'above', 'accomplish', 'adopt', 'advantage', 'alphabet', 'anniversary', 'another', 'appropriate', 'arrogant', 'artist', 'background', 'bee', 'behavior', 'bell', 'birth', 'bless', 'blood', 'boots', 'brave', 'breathe', 'bright', 'bull', 'butterfly', 'card', 'category', 'catholic', 'cent', 'chemistry', 'china', 'chop', 'christian', 'cigarette', 'clever', 'clown', 'coach', 'coat', 'cochlear implant', 'common', 'commute', 'control', 'count', 'culture', 'daily', 'defend', 'degree', 'demonstrate', 'department', 'die', 'dig', 'dinner', 'dinosaur', 'diploma', 'director', 'disconnect', 'discover', \"don't want\", 'drum', 'each', 'educate', 'electrician', 'empty', 'england', 'establish', 'excuse', 'eyeglasses', 'faculty', 'fall in love', 'famous', 'farm', 'fence', 'fix', 'flexible', 'flirt', 'flood', 'fork', 'fun', 'funeral', 'furniture', 'gallaudet', 'general', 'ghost', 'glass', 'gorilla', 'gray', 'guide', 'habit', 'health', 'hearing aid', 'heaven', 'heavy', 'helmet', 'hide', 'high school', 'hockey', 'hold', 'honest', 'hug', 'hunt', 'image', 'influence', 'interesting', 'interpreter', 'iran', 'italy', 'jewish', 'judge', 'key', 'label', 'leaf', 'left', 'lend', 'less', 'linguistics', 'lonely', 'long', 'magic', 'mainstream', 'major', 'manager', 'maximum', 'me', 'mexico', 'middle', 'mind', 'monster', 'multiply', 'myself', 'odd', 'offer', 'on', 'only', 'opposite', 'out', 'overlook', 'path', 'percent', 'physics', 'piano', 'pick', 'pie', 'plate', 'pocket', 'popcorn', 'positive', 'pregnant', 'prevent', 'proof', 'pumpkin', 'purpose', 'race', 'refuse', 'relationship', 'repeat', 'replace', 'report', 'represent', 'request', 'responsibility', 'result', 'reveal', 'ring', 'rob', 'rock', 'role', 'rope', 'rush', 'salute', 'satisfy', 'search', 'selfish', 'sensitive', 'serve', 'shampoo', 'she', 'shelf', 'shopping', 'sign language', 'similar', 'sing', 'skeleton', 'sketch', 'skill', 'sleepy', 'slip', 'smell', 'sneeze', 'snob', 'specific', 'stamp', 'steel', 'subway', 'suffer', 'surface', 'sweep', 'swing', 'switzerland', 'tale', 'tan', 'teeth', 'terrible', 'thankful', 'they', 'through', 'tiptoe', 'title', 'tooth', 'toothbrush', 'total', 'tough', 'tradition', 'trophy', 'trouble', 'true', 'trust', 'under', 'verb', 'wall', 'way', 'weird', 'while', 'wide', 'willing', 'wish', 'wonderful', 'workshop', 'worse', 'wrench', 'a', 'a lot', 'abdomen', 'able', 'accountant', 'action', 'active', 'activity', 'address', 'affect', 'afraid', 'against', 'agenda', 'ahead', 'aim', 'alcohol', 'algebra', 'all day', 'amazing', 'angle', 'apart', 'apostrophe', 'appetite', 'appreciate', 'archery', 'around', 'article', 'assistant', 'attend', 'auction', 'authority', 'average', 'awake', 'b', 'babysitter', 'battle', 'beginning', 'belief', 'bible', 'bike', 'blend', 'bone', 'bra', 'brief', 'broke', 'bug', 'bully', 'button', 'cabbage', 'cabinet', 'calculator', 'calculus', 'camping', 'canoe', 'careless', 'ceiling', 'cemetery', 'chapter', 'choir', 'circle', 'come', 'come here', 'company', 'complete', 'concept', 'concern', 'confront', 'confused', 'congress', 'connect', 'conquer', 'constitution', 'contract', 'court', 'crab', 'cross', 'cruel', 'crush', 'date', 'decrease', 'deduct', 'defeat', 'deposit', 'depressed', 'detach', 'diabetes', 'dime', 'dirt', 'disgust', 'dismiss', 'dizzy', 'document', 'dormitory', 'downstairs', 'economy', 'education', 'effort', 'engage', 'engagement', 'engineer', 'envelope', 'erase', 'eternity', 'evening', 'everyday', 'expand', 'eye', 'eyes', 'fake', 'farmer', 'federal', 'final', 'florida', 'flute', 'forbid', 'forever', 'fourth', 'free', 'french fries', 'gamble', 'gas', 'gasoline', 'generation', 'geography', 'german', 'gold', 'grass', 'gun', 'haircut', 'hard of hearing', 'hippopotamus', 'his', 'honey', 'hurricane', 'include', 'infection', 'innocent', 'insect', 'instead', 'institute', 'international', 'interrupt', 'involve', 'jail', 'joke', 'june', 'kangaroo', 'karate', 'kick', 'kneel', 'knock', 'laptop', 'lift', 'lightning', 'lip', 'lipstick', 'local', 'manage', 'mature', 'member', 'message', 'metal', 'microphone', 'mix', 'monthly', 'motor', 'nation', 'network', 'nickel', 'normal', 'nut', 'octopus', 'once', 'organize', 'over', 'owl', 'p', 'parachute', 'paragraph', 'parallel', 'pay attention', 'peace', 'peanut butter', 'perfume', 'personality', 'pet', 'philadelphia', 'physician', 'piece', 'pity', 'plant', 'plenty', 'pneumonia', 'politics', 'position', 'pound', 'pour', 'preach', 'preacher', 'prefer', 'pressure', 'principal', 'priority', 'professional', 'professor', 'promote', 'prostitute', 'proud', 'quote', 'receive', 'recent', 'reduce', 'refer', 'referee', 'relate', 'relax', 'remote control', 'rent', 'reputation', 'resign', 'responsible', 'ridiculous', 'road', 'robot', 'rubber', 'safe', 'sauce', 'sausage', 'scold', 'senior', 'several', 'shame', 'shave', 'shoot', 'shoulder', 'silver', 'simple', 'siren', 'size', 'skate', 'skin', 'skunk', 'slice', 'smooth', 'snack', 'snowman', 'society', 'someone', 'song', 'sore throat', 'spanish', 'speak', 'speed', 'spell', 'spoon', 'spring', 'standard', 'statistics', 'sticky', 'still', 'stretch', 'surgeon', 'sweden', 'swimsuit', 'sympathy', 'take turns', 'technology', 'temple', 'tender', 'thailand', 'theater', 'them', 'theme', 'thick', 'this', 'throat', 'tissue', 'tongue', 'tonight', 'tornado', 'tower', 'tranquil', 'transform', 'tutor', 'twin', 'united states', 'value', 'visitor', 'waiter', 'wallet', 'wander', 'wash face', 'weight', 'whale', 'whatever', 'within', 'wonder', 'worker', 'worthless', 'wrap', 'accent', 'act', 'adapt', 'adjective', 'adjust', 'admire', 'admit', 'advanced', 'adverb', 'agreement', 'aid', 'alligator', 'amputate', 'anatomy', 'annoy', 'anyway', 'approach', 'arizona', 'assist', 'assume', 'attorney', 'audiologist', 'audiology', 'austria', 'author', 'available', 'award', 'aware', 'bank', 'baptize', 'basic', 'battery', 'beside', 'between', 'binoculars', 'blow', 'boast', 'boil', 'bookshelf', 'bookstore', 'boxing', 'braid', 'brain', 'breakdown', 'breakfast', 'breeze', 'bribe', 'brochure', 'buffalo', 'burp', 'bush', 'bye', 'camel', 'candidate', 'cannot', 'captain', 'carnival', 'caterpillar', 'cheerleader', 'chemical', 'chicago', 'choke', 'christ', 'click', 'closet', 'clueless', 'clumsy', 'collect', 'comma', 'comment', 'commit', 'committee', 'common sense', 'compete', 'concentrate', 'congratulations', 'consider', 'construct', 'consume', 'contest', 'conversation', 'convert', 'cooperate', 'counsel', 'counselor', 'crave', 'create', 'crocodile', 'crown', 'cuba', 'curtain', 'customer', 'd', 'damage', 'dancer', 'danger', 'dangerous', 'dawn', 'death', 'debate', 'debt', 'deliver', 'democrat', 'descend', 'design', 'detective', 'devil', 'dice', 'difficult', 'dining room', 'discipline', 'discount', 'disgusted', 'disturb', 'division', 'done', 'drag', 'dragon', 'drama', 'drug', 'due', 'dull', 'dusk', 'dvd', 'dye', 'e', 'either', 'electricity', 'elementary', 'else', 'emergency', 'engine', 'enormous', 'eraser', 'every monday', 'every tuesday', 'except', 'exhibit', 'explode', 'express', 'f', 'fairy', 'familiar', 'festival', 'finance', 'fingerspell', 'fire', 'firefighter', 'flatter', 'fool', 'forgive', 'former', 'freeway', 'from now on', 'g', 'gang', 'gay', 'geometry', 'gift', 'grab', 'graduation', 'grateful', 'grey', 'gymnastics', 'h', 'hanukkah', 'heap', 'heart attack', 'hill', 'holy', 'hop', 'host', 'hot dog', 'human', 'i', 'ill', 'illegal', 'impact', 'individual', 'inspect', 'inspire', 'intersection', 'ireland', 'iron', 'j', 'jewelry', 'journey', 'joy', 'july', 'k', 'kid', 'kindergarten', 'lady', 'lamp', 'last week', 'laundry', 'leader', 'league', 'leak', 'legal', 'let', 'liability', 'librarian', 'license', 'little bit', 'loan', 'look at', 'look for', 'lord', 'm', 'meaning', 'melody', 'melt', 'mention', 'microscope', 'midnight', 'military', 'mine', 'mistake', 'mock', 'moose', 'mosquito', 'motivate', 'murder', 'n', 'narrow', 'necessary', 'negotiate', 'new york', 'not yet', 'notice', 'numerous', 'nun', 'o', 'objective', 'obsess', 'obtain', 'occur', 'odor', 'olympics', 'or', 'oral', 'our', 'overcome', 'pack', 'painter', 'part', 'pause', 'peaceful', 'peel', 'penalty', 'pennsylvania', 'penny', 'permit', 'phrase', 'pickle', 'pilot', 'player', 'polar bear', 'policeman', 'poop', 'post', 'potential', 'poverty', 'precious', 'precipitation', 'precise', 'preschool', 'pride', 'prince', 'princess', 'principle', 'process', 'profit', 'progress', 'propaganda', 'proper', 'psychologist', 'public', 'publish', 'purchase', 'pure', 'pursue', 'put off', 'q', 'quality', 'quarrel', 'quarter', 'r', 'rage', 'rather', 'real', 'recliner', 'recommend', 'recover', 'regular', 'release', 'relief', 'rely', 'reply', 'rescue', 'resist', 'restroom', 'retreat', 'roar', 'robber', 'rose', 'ruin', 's', 'salary', 'saw', 'scan', 'scream', 'sculpture', 'sea', 'seldom', 'sequence', 'settle', 'shout', 'shovel', 'sin', 'singer', 'ski', 'skip', 'smoking', 'sofa', 'soldier', 'solve', 'someday', 'somewhere', 'soul', 'spill', 'spit', 'spread', 'sprint', 'squeeze', 'stadium', 'sting', 'stir', 'stitch', 'stuck', 'sue', 'sunshine', 'superman', 'surrender', 'suspend', 'swimming', 't', 'talent', 'telescope', 'tempt', 'tend', 'testify', 'texas', 'text', 'than', 'therefore', 'thrill', 'tobacco', 'toilet paper', 'tolerate', 'torture', 'towel', 'trip', 'truth', 'turn', 'tv', 'u', 'unique', 'upstairs', 'v', 'vacant', 'vague', 'valley', 'vampire', 'very', 'vice president', 'viewpoint', 'visualize', 'vlog', 'w', 'washington', 'waterfall', 'weigh', 'wheelchair', 'whistle']\n",
      "Noise: ['book', 'drink', 'computer', 'before', 'chair', 'go', 'clothes', 'who', 'candy', 'deaf', 'fine', 'help', 'no', 'thin', 'walk', 'year', 'yes', 'all', 'black', 'cool', 'finish', 'hot', 'like', 'many', 'now', 'table', 'thanksgiving', 'what', 'woman', 'bed', 'bowling', 'can', 'dog', 'family', 'fish', 'graduate', 'hat', 'hearing', 'kiss', 'language', 'later', 'man', 'shirt', 'study', 'tall', 'white', 'wrong', 'accident', 'apple', 'bird', 'change', 'color', 'corn', 'cow', 'dance', 'dark', 'doctor', 'eat', 'enjoy', 'forget', 'give', 'last', 'meet', 'pizza', 'play', 'school', 'secretary', 'short', 'time', 'want', 'work', 'africa', 'birthday', 'but', 'cheat', 'city', 'cook', 'decide', 'full', 'how', 'jacket', 'letter', 'medicine', 'need', 'paint', 'paper', 'pull', 'right', 'same', 'tell', 'visit', 'wait', 'water', 'backpack', 'bar', 'cat', 'check', 'class', 'cry', 'different', 'door', 'hair', 'have', 'headache', 'inform', 'knife', 'laugh', 'learn', 'movie', 'rabbit', 'read', 'room', 'run', 'show', 'sick', 'snow', 'take', 'tea', 'teacher', 'week', 'why', 'with', 'write', 'yesterday', 'again', 'bad', 'ball', 'bathroom', 'blanket', 'buy', 'call', 'coffee', 'cold', 'college', 'copy', 'cute', 'example', 'far', 'first', 'good', 'happy', 'home', 'late', 'leave', 'list', 'lose', 'name', 'old', 'person', 'police', 'problem', 'remember', 'share', 'soon', 'stay', 'test', 'tired', 'trade', 'travel', 'window', 'you', 'about', 'approve', 'arrive', 'balance', 'beard', 'because', 'boy', 'business', 'careful', 'center', 'chat', 'children', 'christmas', 'clock', 'close', 'convince', 'country', 'crash', 'day', 'discuss', 'dress', 'drive', 'drop', 'fat', 'feel', 'future', 'game', 'girl', 'government', 'hear', 'here', 'hope', 'house', 'interest', 'join', 'light', 'live', 'make', 'mean', 'more', 'most', 'music', 'new', 'none', 'office', 'order', 'pants', 'party', 'past', 'pencil', 'plan', 'please', 'practice', 'president', 'restaurant', 'ride', 'russia', 'salt', 'sandwich', 'sign', 'since', 'small', 'some', 'student', 'teach', 'theory', 'tomato', 'train', 'ugly', 'war', 'where', 'your', 'always', 'animal', 'argue', 'baby', 'back', 'bake', 'bath', 'behind', 'bring', 'catch', 'cereal', 'champion', 'cheese', 'cough', 'crazy', 'delay', 'delicious', 'disappear', 'divorce', 'draw', 'easy', 'egg', 'environment', 'fault', 'flower', 'friendly', 'glasses', 'halloween', 'hard', 'heart', 'hour', 'humble', 'hurry', 'improve', 'internet', 'jump', 'kill', 'law', 'match', 'meat', 'milk', 'money', 'month', 'moon', 'move', 'near', 'nice', 'noon', 'not', 'nurse', 'off', 'ok', 'patient', 'pay', 'perspective', 'potato', 'sad', 'save', 'scissors', 'secret', 'shoes', 'shop', 'silly', 'sleep', 'sorry', 'straight', 'sweet', 'talk', 'temperature', 'tent', 'thank you', 'throw', 'today', 'traffic', 'use', 'voice', 'vomit', 'vote', 'wet', 'when', 'which', 'win', 'word', 'afternoon', 'age', 'alone', 'appointment', 'australia', 'avoid', 'balloon', 'basement', 'bear', 'better', 'blind', 'bored', 'bowl', 'box', 'bracelet', 'bread', 'cafeteria', 'car', 'chicken', 'child', 'choose', 'church', 'cookie', 'cup', 'cut', 'decorate', 'deep', 'deer', 'dentist', 'dirty', 'dive', 'down', 'dry', 'ear', 'earn', 'earring', 'elephant', 'english', 'escape', 'expensive', 'fast', 'fight', 'find', 'fishing', 'floor', 'fly', 'follow', 'from', 'get', 'happen', 'hello', 'hit', 'hospital', 'idea', 'important', 'investigate', 'japan', 'jealous', 'king', 'kitchen', 'large', 'last year', 'lettuce', 'marry', 'meeting', 'minute', 'mirror', 'miss', 'monkey', 'morning', 'motorcycle', 'necklace', 'never', 'newspaper', 'night', 'onion', 'people', 'pepper', 'phone', 'picture', 'plus', 'point', 'poor', 'possible', 'quiet', 'rain', 'ready', 'research', 'scared', 'science', 'score', 'sentence', 'shape', 'sit', 'slow', 'snake', 'soap', 'soda', 'speech', 'star', 'stink', 'struggle', 'stubborn', 'sunset', 'surgery', 'there', 'tiger', 'toast', 'toilet', 'tomorrow', 'town', 'transfer', 'tree', 'truck', 'vacation', 'weather', 'weekend', 'accept', 'adult', 'after', 'ago', 'allow', 'america', 'angel', 'answer', 'any', 'area', 'art', 'asl', 'awful', 'awkward', 'bacon', 'bark', 'bedroom', 'beer', 'belt', 'big', 'bitter', 'both', 'cake', 'california', 'canada', 'carrot', 'cause', 'challenge', 'cheap', 'chocolate', 'clean', 'cloud', 'compare', 'complex', 'contact', 'continue', 'corner', 'correct', 'curse', 'dead', 'demand', 'depend', 'desert', 'desk', 'develop', 'dictionary', 'doll', 'duty', 'egypt', 'elevator', 'email', 'end', 'enter', 'europe', 'event', 'exchange', 'experience', 'face', 'fail', 'feed', 'few', 'flag', 'food', 'for', 'form', 'freeze', 'front', 'giraffe', 'god', 'grammar', 'great', 'greece', 'guitar', 'hammer', 'helicopter', 'high', 'history', 'hungry', 'hurt', 'introduce', 'invest', 'lazy', 'library', 'lie', 'lobster', 'love', 'lucky', 'magazine', 'measure', 'microwave', 'my', 'neighbor', 'number', 'one', 'outside', 'peach', 'pig', 'polite', 'postpone', 'power', 'present', 'price', 'prison', 'push', 'raccoon', 'reason', 'religion', 'respect', 'rule', 'salad', 'schedule', 'sell', 'serious', 'shower', 'single', 'smart', 'smile', 'soft', 'sound', 'soup', 'spain', 'spray', 'squirrel', 'stomach', 'story', 'strange', 'street', 'stress', 'strict', 'strong', 'sugar', 'summer', 'suspect', 'sweetheart', 'tease', 'that', 'themselves', 'therapy', 'thirsty', 'ticket', 'top', 'turkey', 'university', 'until', 'watch', 'weak', 'wedding', 'will', 'wind', 'world', 'worry', 'wow', 'young', 'add', 'airplane', 'already', 'also', 'analyze', 'and', 'angry', 'appear', 'arm', 'army', 'arrest', 'asia', 'ask', 'attitude', 'attract', 'bald', 'barely', 'beg', 'benefit', 'bite', 'blame', 'boat', 'body', 'borrow', 'boss', 'bother', 'bottle', 'bottom', 'brag', 'build', 'bus', 'butter', 'calm', 'cancel', 'candle', 'cards', 'choice', 'comb', 'comfortable', 'conflict', 'cover', 'deodorant', 'dessert', 'destroy', 'diamond', 'dollar', 'drawer', 'dream', 'drunk', 'duck', 'during', 'eagle', 'early', 'equal', 'every', 'excited', 'exercise', 'experiment', 'expert', 'fact', 'fear', 'feedback', 'fold', 'forest', 'france', 'frog', 'funny', 'garage', 'goal', 'golf', 'gone', 'gossip', 'grapes', 'group', 'guilty', 'hamburger', 'hate', 'head', 'her', 'horse', 'ignore', 'impossible', 'in', 'independent', 'inside', 'insurance', 'island', 'lecture', 'lesson', 'limit', 'lion', 'listen', 'march', 'math', 'maybe', 'mechanic', 'mom', 'mouse', 'much', 'muscle', 'museum', 'must', 'mustache', 'negative', 'nervous', 'neutral', 'nose', 'often', 'operate', 'opinion', 'other', 'pass', 'pillow', 'prepare', 'pretty', 'priest', 'program', 'promise', 'put', 'queen', 'quit', 'radio', 'rat', 'reject', 'require', 'rest', 'retire', 'rise', 'river', 'rough', 'see', 'seem', 'send', 'sew', 'sheep', 'shine', 'shock', 'should', 'silent', 'skinny', 'skirt', 'sky', 'sour', 'special', 'spirit', 'staff', 'stand', 'steal', 'stop', 'stupid', 'summon', 'sunrise', 'swallow', 'television', 'to', 'together', 'translate', 'triangle', 'turtle', 'underwear', 'upset', 'violin', 'volunteer', 'warm', 'warn', 'wash', 'wine', 'witness', 'wood', 'zero', 'across', 'actor', 'agree', 'alarm', 'allergy', 'almost', 'announce', 'apartment', 'attention', 'audience', 'autumn', 'away', 'beautiful', 'become', 'below', 'best', 'bet', 'bicycle', 'biology', 'break', 'bridge', 'brush', 'building', 'busy', 'camera', 'camp', 'caption', 'care', 'carry', 'celebrate', 'certificate', 'chain', 'chance', 'character', 'chase', 'classroom', 'clear', 'climb', 'command', 'community', 'complain', 'compromise', 'contribute', 'cop', 'cost', 'couch', 'cracker', 'curious', 'curriculum', 'dad', 'deny', 'describe', 'diaper', 'diarrhea', 'disagree', 'dissolve', 'divide', 'dolphin', 'double', 'doubt', 'dumb', 'earth', 'earthquake', 'embarrass', 'emotion', 'encourage', 'energy', 'enough', 'evidence', 'exact', 'exaggerate', 'expect', 'fancy', 'favorite', 'finally', 'fox', 'french', 'function', 'gather', 'germany', 'gloves', 'goat', 'goodbye', 'grow', 'gum', 'half', 'hawaii', 'herself', 'highway', 'homework', 'honor', 'ice cream', 'if', 'increase', 'india', 'information', 'interpret', 'interview', 'invite', 'israel', 'jesus', 'keep', 'keyboard', 'land', 'lawyer', 'lead', 'lesbian', 'line', 'lock', 'loud', 'lousy', 'lunch', 'machine', 'mad', 'memorize', 'minus', 'mountain', 'mouth', 'mushroom', 'napkin', 'neck', 'next', 'ocean', 'open', 'overwhelm', 'owe', 'page', 'pain', 'parade', 'parents', 'perfect', 'period', 'philosophy', 'photographer', 'place', 'policy', 'popular', 'pray', 'predict', 'presentation', 'print', 'printer', 'private', 'procrastinate', 'project', 'protect', 'prove', 'provide', 'psychology', 'punish', 'puzzled', 'question', 'quick', 'rainbow', 'rake', 'rehearse', 'remove', 'revenge', 'review', 'rich', 'roof', 'rooster', 'rude', 'say', 'scientist', 'scotland', 'screwdriver', 'second', 'senate', 'separate', 'service', 'shrimp', 'shy', 'side', 'situation', 'slave', 'socks', 'solid', 'sometimes', 'spider', 'spin', 'square', 'stairs', 'stare', 'start', 'store', 'straw', 'structure', 'suggest', 'sun', 'support', 'sure', 'surprise', 'sweater', 'swim', 'symbol', 'taste', 'team', 'telephone', 'tennis', 'their', 'then', 'thermometer', 'third', 'thousand', 'tie', 'topic', 'touch', 'tournament', 'try', 'type', 'umbrella', 'vegetable', 'vocabulary', 'waste', 'we', 'wear', 'weekly', 'welcome', 'winter', 'without', 'wolf', 'worm', 'wristwatch', 'yourself', 'above', 'accomplish', 'adopt', 'advantage', 'alphabet', 'anniversary', 'another', 'appropriate', 'arrogant', 'artist', 'background', 'bee', 'behavior', 'bell', 'birth', 'bless', 'blood', 'boots', 'brave', 'breathe', 'bright', 'bull', 'butterfly', 'card', 'category', 'catholic', 'cent', 'chemistry', 'china', 'chop', 'christian', 'cigarette', 'clever', 'clown', 'coach', 'coat', 'cochlear implant', 'common', 'commute', 'control', 'count', 'culture', 'daily', 'defend', 'degree', 'demonstrate', 'department', 'die', 'dig', 'dinner', 'dinosaur', 'diploma', 'director', 'disconnect', 'discover', \"don't want\", 'drum', 'each', 'educate', 'electrician', 'empty', 'england', 'establish', 'excuse', 'eyeglasses', 'faculty', 'fall in love', 'famous', 'farm', 'fence', 'fix', 'flexible', 'flirt', 'flood', 'fork', 'fun', 'funeral', 'furniture', 'gallaudet', 'general', 'ghost', 'glass', 'gorilla', 'gray', 'guide', 'habit', 'health', 'hearing aid', 'heaven', 'heavy', 'helmet', 'hide', 'high school', 'hockey', 'hold', 'honest', 'hug', 'hunt', 'image', 'influence', 'interesting', 'interpreter', 'iran', 'italy', 'jewish', 'judge', 'key', 'label', 'leaf', 'left', 'lend', 'less', 'linguistics', 'lonely', 'long', 'magic', 'mainstream', 'major', 'manager', 'maximum', 'me', 'mexico', 'middle', 'mind', 'monster', 'multiply', 'myself', 'odd', 'offer', 'on', 'only', 'opposite', 'out', 'overlook', 'path', 'percent', 'physics', 'piano', 'pick', 'pie', 'plate', 'pocket', 'popcorn', 'positive', 'pregnant', 'prevent', 'proof', 'pumpkin', 'purpose', 'race', 'refuse', 'relationship', 'repeat', 'replace', 'report', 'represent', 'request', 'responsibility', 'result', 'reveal', 'ring', 'rob', 'rock', 'role', 'rope', 'rush', 'salute', 'satisfy', 'search', 'selfish', 'sensitive', 'serve', 'shampoo', 'she', 'shelf', 'shopping', 'sign language', 'similar', 'sing', 'skeleton', 'sketch', 'skill', 'sleepy', 'slip', 'smell', 'sneeze', 'snob', 'specific', 'stamp', 'steel', 'subway', 'suffer', 'surface', 'sweep', 'swing', 'switzerland', 'tale', 'tan', 'teeth', 'terrible', 'thankful', 'they', 'through', 'tiptoe', 'title', 'tooth', 'toothbrush', 'total', 'tough', 'tradition', 'trophy', 'trouble', 'true', 'trust', 'under', 'verb', 'wall', 'way', 'weird', 'while', 'wide', 'willing', 'wish', 'wonderful', 'workshop', 'worse', 'wrench', 'a', 'a lot', 'abdomen', 'able', 'accountant', 'action', 'active', 'activity', 'address', 'affect', 'afraid', 'against', 'agenda', 'ahead', 'aim', 'alcohol', 'algebra', 'all day', 'amazing', 'angle', 'apart', 'apostrophe', 'appetite', 'appreciate', 'archery', 'around', 'article', 'assistant', 'attend', 'auction', 'authority', 'average', 'awake', 'b', 'babysitter', 'battle', 'beginning', 'belief', 'bible', 'bike', 'blend', 'bone', 'bra', 'brief', 'broke', 'bug', 'bully', 'button', 'cabbage', 'cabinet', 'calculator', 'calculus', 'camping', 'canoe', 'careless', 'ceiling', 'cemetery', 'chapter', 'choir', 'circle', 'come', 'come here', 'company', 'complete', 'concept', 'concern', 'confront', 'confused', 'congress', 'connect', 'conquer', 'constitution', 'contract', 'court', 'crab', 'cross', 'cruel', 'crush', 'date', 'decrease', 'deduct', 'defeat', 'deposit', 'depressed', 'detach', 'diabetes', 'dime', 'dirt', 'disgust', 'dismiss', 'dizzy', 'document', 'dormitory', 'downstairs', 'economy', 'education', 'effort', 'engage', 'engagement', 'engineer', 'envelope', 'erase', 'eternity', 'evening', 'everyday', 'expand', 'eye', 'eyes', 'fake', 'farmer', 'federal', 'final', 'florida', 'flute', 'forbid', 'forever', 'fourth', 'free', 'french fries', 'gamble', 'gas', 'gasoline', 'generation', 'geography', 'german', 'gold', 'grass', 'gun', 'haircut', 'hard of hearing', 'hippopotamus', 'his', 'honey', 'hurricane', 'include', 'infection', 'innocent', 'insect', 'instead', 'institute', 'international', 'interrupt', 'involve', 'jail', 'joke', 'june', 'kangaroo', 'karate', 'kick', 'kneel', 'knock', 'laptop', 'lift', 'lightning', 'lip', 'lipstick', 'local', 'manage', 'mature', 'member', 'message', 'metal', 'microphone', 'mix', 'monthly', 'motor', 'nation', 'network', 'nickel', 'normal', 'nut', 'octopus', 'once', 'organize', 'over', 'owl', 'p', 'parachute', 'paragraph', 'parallel', 'pay attention', 'peace', 'peanut butter', 'perfume', 'personality', 'pet', 'philadelphia', 'physician', 'piece', 'pity', 'plant', 'plenty', 'pneumonia', 'politics', 'position', 'pound', 'pour', 'preach', 'preacher', 'prefer', 'pressure', 'principal', 'priority', 'professional', 'professor', 'promote', 'prostitute', 'proud', 'quote', 'receive', 'recent', 'reduce', 'refer', 'referee', 'relate', 'relax', 'remote control', 'rent', 'reputation', 'resign', 'responsible', 'ridiculous', 'road', 'robot', 'rubber', 'safe', 'sauce', 'sausage', 'scold', 'senior', 'several', 'shame', 'shave', 'shoot', 'shoulder', 'silver', 'simple', 'siren', 'size', 'skate', 'skin', 'skunk', 'slice', 'smooth', 'snack', 'snowman', 'society', 'someone', 'song', 'sore throat', 'spanish', 'speak', 'speed', 'spell', 'spoon', 'spring', 'standard', 'statistics', 'sticky', 'still', 'stretch', 'surgeon', 'sweden', 'swimsuit', 'sympathy', 'take turns', 'technology', 'temple', 'tender', 'thailand', 'theater', 'them', 'theme', 'thick', 'this', 'throat', 'tissue', 'tongue', 'tonight', 'tornado', 'tower', 'tranquil', 'transform', 'tutor', 'twin', 'united states', 'value', 'visitor', 'waiter', 'wallet', 'wander', 'wash face', 'weight', 'whale', 'whatever', 'within', 'wonder', 'worker', 'worthless', 'wrap', 'accent', 'act', 'adapt', 'adjective', 'adjust', 'admire', 'admit', 'advanced', 'adverb', 'agreement', 'aid', 'alligator', 'amputate', 'anatomy', 'annoy', 'anyway', 'approach', 'arizona', 'assist', 'assume', 'attorney', 'audiologist', 'audiology', 'austria', 'author', 'available', 'award', 'aware', 'bank', 'baptize', 'basic', 'battery', 'beside', 'between', 'binoculars', 'blow', 'boast', 'boil', 'bookshelf', 'bookstore', 'boxing', 'braid', 'brain', 'breakdown', 'breakfast', 'breeze', 'bribe', 'brochure', 'buffalo', 'burp', 'bush', 'bye', 'camel', 'candidate', 'cannot', 'captain', 'carnival', 'caterpillar', 'cheerleader', 'chemical', 'chicago', 'choke', 'christ', 'click', 'closet', 'clueless', 'clumsy', 'collect', 'comma', 'comment', 'commit', 'committee', 'common sense', 'compete', 'concentrate', 'congratulations', 'consider', 'construct', 'consume', 'contest', 'conversation', 'convert', 'cooperate', 'counsel', 'counselor', 'crave', 'create', 'crocodile', 'crown', 'cuba', 'curtain', 'customer', 'd', 'damage', 'dancer', 'danger', 'dangerous', 'dawn', 'death', 'debate', 'debt', 'deliver', 'democrat', 'descend', 'design', 'detective', 'devil', 'dice', 'difficult', 'dining room', 'discipline', 'discount', 'disgusted', 'disturb', 'division', 'done', 'drag', 'dragon', 'drama', 'drug', 'due', 'dull', 'dusk', 'dvd', 'dye', 'e', 'either', 'electricity', 'elementary', 'else', 'emergency', 'engine', 'enormous', 'eraser', 'every monday', 'every tuesday', 'except', 'exhibit', 'explode', 'express', 'f', 'fairy', 'familiar', 'festival', 'finance', 'fingerspell', 'fire', 'firefighter', 'flatter', 'fool', 'forgive', 'former', 'freeway', 'from now on', 'g', 'gang', 'gay', 'geometry', 'gift', 'grab', 'graduation', 'grateful', 'grey', 'gymnastics', 'h', 'hanukkah', 'heap', 'heart attack', 'hill', 'holy', 'hop', 'host', 'hot dog', 'human', 'i', 'ill', 'illegal', 'impact', 'individual', 'inspect', 'inspire', 'intersection', 'ireland', 'iron', 'j', 'jewelry', 'journey', 'joy', 'july', 'k', 'kid', 'kindergarten', 'lady', 'lamp', 'last week', 'laundry', 'leader', 'league', 'leak', 'legal', 'let', 'liability', 'librarian', 'license', 'little bit', 'loan', 'look at', 'look for', 'lord', 'm', 'meaning', 'melody', 'melt', 'mention', 'microscope', 'midnight', 'military', 'mine', 'mistake', 'mock', 'moose', 'mosquito', 'motivate', 'murder', 'n', 'narrow', 'necessary', 'negotiate', 'new york', 'not yet', 'notice', 'numerous', 'nun', 'o', 'objective', 'obsess', 'obtain', 'occur', 'odor', 'olympics', 'or', 'oral', 'our', 'overcome', 'pack', 'painter', 'part', 'pause', 'peaceful', 'peel', 'penalty', 'pennsylvania', 'penny', 'permit', 'phrase', 'pickle', 'pilot', 'player', 'polar bear', 'policeman', 'poop', 'post', 'potential', 'poverty', 'precious', 'precipitation', 'precise', 'preschool', 'pride', 'prince', 'princess', 'principle', 'process', 'profit', 'progress', 'propaganda', 'proper', 'psychologist', 'public', 'publish', 'purchase', 'pure', 'pursue', 'put off', 'q', 'quality', 'quarrel', 'quarter', 'r', 'rage', 'rather', 'real', 'recliner', 'recommend', 'recover', 'regular', 'release', 'relief', 'rely', 'reply', 'rescue', 'resist', 'restroom', 'retreat', 'roar', 'robber', 'rose', 'ruin', 's', 'salary', 'saw', 'scan', 'scream', 'sculpture', 'sea', 'seldom', 'sequence', 'settle', 'shout', 'shovel', 'sin', 'singer', 'ski', 'skip', 'smoking', 'sofa', 'soldier', 'solve', 'someday', 'somewhere', 'soul', 'spill', 'spit', 'spread', 'sprint', 'squeeze', 'stadium', 'sting', 'stir', 'stitch', 'stuck', 'sue', 'sunshine', 'superman', 'surrender', 'suspend', 'swimming', 't', 'talent', 'telescope', 'tempt', 'tend', 'testify', 'texas', 'text', 'than', 'therefore', 'thrill', 'tobacco', 'toilet paper', 'tolerate', 'torture', 'towel', 'trip', 'truth', 'turn', 'tv', 'u', 'unique', 'upstairs', 'v', 'vacant', 'vague', 'valley', 'vampire', 'very', 'vice president', 'viewpoint', 'visualize', 'vlog', 'w', 'washington', 'waterfall', 'weigh', 'wheelchair', 'whistle']\n",
      "Cluster 0: ['cousin', 'mother', 'son', 'wife', 'brother', 'daughter', 'friend', 'husband', 'father', 'nephew', 'niece', 'sister', 'uncle', 'aunt', 'grandfather', 'grandmother', 'boyfriend', 'dorm', 'girlfriend', 'grandma', 'roommate', 'stepfather']\n",
      "Cluster 2: ['orange', 'blue', 'pink', 'brown', 'purple', 'yellow', 'green', 'red']\n",
      "Cluster 1: ['basketball', 'football', 'baseball', 'soccer', 'volleyball']\n",
      "Cluster 3: ['thursday', 'sunday', 'saturday', 'wednesday', 'friday', 'tuesday', 'monday']\n",
      "Cluster 5: ['know', 'think', 'understand', 'believe', 'explain', 'guess', 'suppose', 'misunderstand', 'realize', 'recognize']\n",
      "Cluster 9: ['banana', 'lemon', 'fruit', 'cherry', 'coconut', 'strawberry', 'watermelon', 'berry', 'pear']\n",
      "Cluster 4: ['south', 'east', 'north', 'west', 'easter', 'south america', 'northwest']\n",
      "Cluster 11: ['really', 'thing', 'nothing', 'everything', 'something']\n",
      "Cluster 6: ['up', 'give up', 'grow up', 'take up', 'wake up', 'get up', 'hang up']\n",
      "Cluster 7: ['august', 'october', 'april', 'december', 'february', 'january', 'november', 'september']\n",
      "Cluster 8: ['eight', 'three', 'two', 'four', 'seven', 'six', 'eighteen', 'nineteen', 'five', 'nine', 'sixteen', 'ten']\n",
      "Cluster 10: ['evaluate', 'subtract', 'calculate', 'determine', 'identify']\n"
     ]
    }
   ],
   "source": [
    "##If you want to see clusters##\n",
    "\n",
    "\n",
    "num_clusters = len(set(dbscan.labels_)) - (1 if -1 in dbscan.labels_ else 0)\n",
    "print(f\"Number of clusters: {num_clusters}\")\n",
    "    \n",
    "cluster_label = dbscan.fit_predict([nlp(\"unhappy\").vector])[0]\n",
    "same_cluster_words = cluster_to_words.get(cluster_label, [])\n",
    "print(f\"Words in the same cluster as 'unhappy': {same_cluster_words}\")\n",
    "    \n",
    "display_clusters(cluster_to_words)"
   ]
  },
  {
   "cell_type": "code",
   "execution_count": null,
   "metadata": {},
   "outputs": [],
   "source": []
  }
 ],
 "metadata": {
  "kernelspec": {
   "display_name": ".venv",
   "language": "python",
   "name": "python3"
  },
  "language_info": {
   "codemirror_mode": {
    "name": "ipython",
    "version": 3
   },
   "file_extension": ".py",
   "mimetype": "text/x-python",
   "name": "python",
   "nbconvert_exporter": "python",
   "pygments_lexer": "ipython3",
   "version": "3.10.12"
  }
 },
 "nbformat": 4,
 "nbformat_minor": 2
}
